{
 "cells": [
  {
   "cell_type": "markdown",
   "metadata": {},
   "source": [
    "# Importing libraries"
   ]
  },
  {
   "cell_type": "code",
   "execution_count": 2,
   "metadata": {},
   "outputs": [],
   "source": [
    "import pandas as pd"
   ]
  },
  {
   "cell_type": "code",
   "execution_count": 3,
   "metadata": {},
   "outputs": [],
   "source": [
    "import matplotlib.pyplot as plt"
   ]
  },
  {
   "cell_type": "code",
   "execution_count": 4,
   "metadata": {},
   "outputs": [],
   "source": [
    "from urllib.request import urlopen"
   ]
  },
  {
   "cell_type": "code",
   "execution_count": 5,
   "metadata": {},
   "outputs": [],
   "source": [
    "from bokeh.io import output_notebook, show\n",
    "from bokeh.plotting import figure\n",
    "from bokeh.models import ColumnDataSource, LabelSet, HoverTool"
   ]
  },
  {
   "cell_type": "code",
   "execution_count": 6,
   "metadata": {},
   "outputs": [
    {
     "data": {
      "text/html": [
       "\n",
       "    <div class=\"bk-root\">\n",
       "        <a href=\"https://bokeh.pydata.org\" target=\"_blank\" class=\"bk-logo bk-logo-small bk-logo-notebook\"></a>\n",
       "        <span id=\"5a137a93-6768-46b4-abd2-77f9f743c8d8\">Loading BokehJS ...</span>\n",
       "    </div>"
      ]
     },
     "metadata": {},
     "output_type": "display_data"
    },
    {
     "data": {
      "application/javascript": [
       "\n",
       "(function(root) {\n",
       "  function now() {\n",
       "    return new Date();\n",
       "  }\n",
       "\n",
       "  var force = true;\n",
       "\n",
       "  if (typeof (root._bokeh_onload_callbacks) === \"undefined\" || force === true) {\n",
       "    root._bokeh_onload_callbacks = [];\n",
       "    root._bokeh_is_loading = undefined;\n",
       "  }\n",
       "\n",
       "  var JS_MIME_TYPE = 'application/javascript';\n",
       "  var HTML_MIME_TYPE = 'text/html';\n",
       "  var EXEC_MIME_TYPE = 'application/vnd.bokehjs_exec.v0+json';\n",
       "  var CLASS_NAME = 'output_bokeh rendered_html';\n",
       "\n",
       "  /**\n",
       "   * Render data to the DOM node\n",
       "   */\n",
       "  function render(props, node) {\n",
       "    var script = document.createElement(\"script\");\n",
       "    node.appendChild(script);\n",
       "  }\n",
       "\n",
       "  /**\n",
       "   * Handle when an output is cleared or removed\n",
       "   */\n",
       "  function handleClearOutput(event, handle) {\n",
       "    var cell = handle.cell;\n",
       "\n",
       "    var id = cell.output_area._bokeh_element_id;\n",
       "    var server_id = cell.output_area._bokeh_server_id;\n",
       "    // Clean up Bokeh references\n",
       "    if (id != null && id in Bokeh.index) {\n",
       "      Bokeh.index[id].model.document.clear();\n",
       "      delete Bokeh.index[id];\n",
       "    }\n",
       "\n",
       "    if (server_id !== undefined) {\n",
       "      // Clean up Bokeh references\n",
       "      var cmd = \"from bokeh.io.state import curstate; print(curstate().uuid_to_server['\" + server_id + \"'].get_sessions()[0].document.roots[0]._id)\";\n",
       "      cell.notebook.kernel.execute(cmd, {\n",
       "        iopub: {\n",
       "          output: function(msg) {\n",
       "            var id = msg.content.text.trim();\n",
       "            if (id in Bokeh.index) {\n",
       "              Bokeh.index[id].model.document.clear();\n",
       "              delete Bokeh.index[id];\n",
       "            }\n",
       "          }\n",
       "        }\n",
       "      });\n",
       "      // Destroy server and session\n",
       "      var cmd = \"import bokeh.io.notebook as ion; ion.destroy_server('\" + server_id + \"')\";\n",
       "      cell.notebook.kernel.execute(cmd);\n",
       "    }\n",
       "  }\n",
       "\n",
       "  /**\n",
       "   * Handle when a new output is added\n",
       "   */\n",
       "  function handleAddOutput(event, handle) {\n",
       "    var output_area = handle.output_area;\n",
       "    var output = handle.output;\n",
       "\n",
       "    // limit handleAddOutput to display_data with EXEC_MIME_TYPE content only\n",
       "    if ((output.output_type != \"display_data\") || (!output.data.hasOwnProperty(EXEC_MIME_TYPE))) {\n",
       "      return\n",
       "    }\n",
       "\n",
       "    var toinsert = output_area.element.find(\".\" + CLASS_NAME.split(' ')[0]);\n",
       "\n",
       "    if (output.metadata[EXEC_MIME_TYPE][\"id\"] !== undefined) {\n",
       "      toinsert[toinsert.length - 1].firstChild.textContent = output.data[JS_MIME_TYPE];\n",
       "      // store reference to embed id on output_area\n",
       "      output_area._bokeh_element_id = output.metadata[EXEC_MIME_TYPE][\"id\"];\n",
       "    }\n",
       "    if (output.metadata[EXEC_MIME_TYPE][\"server_id\"] !== undefined) {\n",
       "      var bk_div = document.createElement(\"div\");\n",
       "      bk_div.innerHTML = output.data[HTML_MIME_TYPE];\n",
       "      var script_attrs = bk_div.children[0].attributes;\n",
       "      for (var i = 0; i < script_attrs.length; i++) {\n",
       "        toinsert[toinsert.length - 1].firstChild.setAttribute(script_attrs[i].name, script_attrs[i].value);\n",
       "      }\n",
       "      // store reference to server id on output_area\n",
       "      output_area._bokeh_server_id = output.metadata[EXEC_MIME_TYPE][\"server_id\"];\n",
       "    }\n",
       "  }\n",
       "\n",
       "  function register_renderer(events, OutputArea) {\n",
       "\n",
       "    function append_mime(data, metadata, element) {\n",
       "      // create a DOM node to render to\n",
       "      var toinsert = this.create_output_subarea(\n",
       "        metadata,\n",
       "        CLASS_NAME,\n",
       "        EXEC_MIME_TYPE\n",
       "      );\n",
       "      this.keyboard_manager.register_events(toinsert);\n",
       "      // Render to node\n",
       "      var props = {data: data, metadata: metadata[EXEC_MIME_TYPE]};\n",
       "      render(props, toinsert[toinsert.length - 1]);\n",
       "      element.append(toinsert);\n",
       "      return toinsert\n",
       "    }\n",
       "\n",
       "    /* Handle when an output is cleared or removed */\n",
       "    events.on('clear_output.CodeCell', handleClearOutput);\n",
       "    events.on('delete.Cell', handleClearOutput);\n",
       "\n",
       "    /* Handle when a new output is added */\n",
       "    events.on('output_added.OutputArea', handleAddOutput);\n",
       "\n",
       "    /**\n",
       "     * Register the mime type and append_mime function with output_area\n",
       "     */\n",
       "    OutputArea.prototype.register_mime_type(EXEC_MIME_TYPE, append_mime, {\n",
       "      /* Is output safe? */\n",
       "      safe: true,\n",
       "      /* Index of renderer in `output_area.display_order` */\n",
       "      index: 0\n",
       "    });\n",
       "  }\n",
       "\n",
       "  // register the mime type if in Jupyter Notebook environment and previously unregistered\n",
       "  if (root.Jupyter !== undefined) {\n",
       "    var events = require('base/js/events');\n",
       "    var OutputArea = require('notebook/js/outputarea').OutputArea;\n",
       "\n",
       "    if (OutputArea.prototype.mime_types().indexOf(EXEC_MIME_TYPE) == -1) {\n",
       "      register_renderer(events, OutputArea);\n",
       "    }\n",
       "  }\n",
       "\n",
       "  \n",
       "  if (typeof (root._bokeh_timeout) === \"undefined\" || force === true) {\n",
       "    root._bokeh_timeout = Date.now() + 5000;\n",
       "    root._bokeh_failed_load = false;\n",
       "  }\n",
       "\n",
       "  var NB_LOAD_WARNING = {'data': {'text/html':\n",
       "     \"<div style='background-color: #fdd'>\\n\"+\n",
       "     \"<p>\\n\"+\n",
       "     \"BokehJS does not appear to have successfully loaded. If loading BokehJS from CDN, this \\n\"+\n",
       "     \"may be due to a slow or bad network connection. Possible fixes:\\n\"+\n",
       "     \"</p>\\n\"+\n",
       "     \"<ul>\\n\"+\n",
       "     \"<li>re-rerun `output_notebook()` to attempt to load from CDN again, or</li>\\n\"+\n",
       "     \"<li>use INLINE resources instead, as so:</li>\\n\"+\n",
       "     \"</ul>\\n\"+\n",
       "     \"<code>\\n\"+\n",
       "     \"from bokeh.resources import INLINE\\n\"+\n",
       "     \"output_notebook(resources=INLINE)\\n\"+\n",
       "     \"</code>\\n\"+\n",
       "     \"</div>\"}};\n",
       "\n",
       "  function display_loaded() {\n",
       "    var el = document.getElementById(\"5a137a93-6768-46b4-abd2-77f9f743c8d8\");\n",
       "    if (el != null) {\n",
       "      el.textContent = \"BokehJS is loading...\";\n",
       "    }\n",
       "    if (root.Bokeh !== undefined) {\n",
       "      if (el != null) {\n",
       "        el.textContent = \"BokehJS \" + root.Bokeh.version + \" successfully loaded.\";\n",
       "      }\n",
       "    } else if (Date.now() < root._bokeh_timeout) {\n",
       "      setTimeout(display_loaded, 100)\n",
       "    }\n",
       "  }\n",
       "\n",
       "\n",
       "  function run_callbacks() {\n",
       "    try {\n",
       "      root._bokeh_onload_callbacks.forEach(function(callback) { callback() });\n",
       "    }\n",
       "    finally {\n",
       "      delete root._bokeh_onload_callbacks\n",
       "    }\n",
       "    console.info(\"Bokeh: all callbacks have finished\");\n",
       "  }\n",
       "\n",
       "  function load_libs(js_urls, callback) {\n",
       "    root._bokeh_onload_callbacks.push(callback);\n",
       "    if (root._bokeh_is_loading > 0) {\n",
       "      console.log(\"Bokeh: BokehJS is being loaded, scheduling callback at\", now());\n",
       "      return null;\n",
       "    }\n",
       "    if (js_urls == null || js_urls.length === 0) {\n",
       "      run_callbacks();\n",
       "      return null;\n",
       "    }\n",
       "    console.log(\"Bokeh: BokehJS not loaded, scheduling load and callback at\", now());\n",
       "    root._bokeh_is_loading = js_urls.length;\n",
       "    for (var i = 0; i < js_urls.length; i++) {\n",
       "      var url = js_urls[i];\n",
       "      var s = document.createElement('script');\n",
       "      s.src = url;\n",
       "      s.async = false;\n",
       "      s.onreadystatechange = s.onload = function() {\n",
       "        root._bokeh_is_loading--;\n",
       "        if (root._bokeh_is_loading === 0) {\n",
       "          console.log(\"Bokeh: all BokehJS libraries loaded\");\n",
       "          run_callbacks()\n",
       "        }\n",
       "      };\n",
       "      s.onerror = function() {\n",
       "        console.warn(\"failed to load library \" + url);\n",
       "      };\n",
       "      console.log(\"Bokeh: injecting script tag for BokehJS library: \", url);\n",
       "      document.getElementsByTagName(\"head\")[0].appendChild(s);\n",
       "    }\n",
       "  };var element = document.getElementById(\"5a137a93-6768-46b4-abd2-77f9f743c8d8\");\n",
       "  if (element == null) {\n",
       "    console.log(\"Bokeh: ERROR: autoload.js configured with elementid '5a137a93-6768-46b4-abd2-77f9f743c8d8' but no matching script tag was found. \")\n",
       "    return false;\n",
       "  }\n",
       "\n",
       "  var js_urls = [\"https://cdn.pydata.org/bokeh/release/bokeh-0.13.0.min.js\", \"https://cdn.pydata.org/bokeh/release/bokeh-widgets-0.13.0.min.js\", \"https://cdn.pydata.org/bokeh/release/bokeh-tables-0.13.0.min.js\", \"https://cdn.pydata.org/bokeh/release/bokeh-gl-0.13.0.min.js\"];\n",
       "\n",
       "  var inline_js = [\n",
       "    function(Bokeh) {\n",
       "      Bokeh.set_log_level(\"info\");\n",
       "    },\n",
       "    \n",
       "    function(Bokeh) {\n",
       "      \n",
       "    },\n",
       "    function(Bokeh) {\n",
       "      console.log(\"Bokeh: injecting CSS: https://cdn.pydata.org/bokeh/release/bokeh-0.13.0.min.css\");\n",
       "      Bokeh.embed.inject_css(\"https://cdn.pydata.org/bokeh/release/bokeh-0.13.0.min.css\");\n",
       "      console.log(\"Bokeh: injecting CSS: https://cdn.pydata.org/bokeh/release/bokeh-widgets-0.13.0.min.css\");\n",
       "      Bokeh.embed.inject_css(\"https://cdn.pydata.org/bokeh/release/bokeh-widgets-0.13.0.min.css\");\n",
       "      console.log(\"Bokeh: injecting CSS: https://cdn.pydata.org/bokeh/release/bokeh-tables-0.13.0.min.css\");\n",
       "      Bokeh.embed.inject_css(\"https://cdn.pydata.org/bokeh/release/bokeh-tables-0.13.0.min.css\");\n",
       "    }\n",
       "  ];\n",
       "\n",
       "  function run_inline_js() {\n",
       "    \n",
       "    if ((root.Bokeh !== undefined) || (force === true)) {\n",
       "      for (var i = 0; i < inline_js.length; i++) {\n",
       "        inline_js[i].call(root, root.Bokeh);\n",
       "      }if (force === true) {\n",
       "        display_loaded();\n",
       "      }} else if (Date.now() < root._bokeh_timeout) {\n",
       "      setTimeout(run_inline_js, 100);\n",
       "    } else if (!root._bokeh_failed_load) {\n",
       "      console.log(\"Bokeh: BokehJS failed to load within specified timeout.\");\n",
       "      root._bokeh_failed_load = true;\n",
       "    } else if (force !== true) {\n",
       "      var cell = $(document.getElementById(\"5a137a93-6768-46b4-abd2-77f9f743c8d8\")).parents('.cell').data().cell;\n",
       "      cell.output_area.append_execute_result(NB_LOAD_WARNING)\n",
       "    }\n",
       "\n",
       "  }\n",
       "\n",
       "  if (root._bokeh_is_loading === 0) {\n",
       "    console.log(\"Bokeh: BokehJS loaded, going straight to plotting\");\n",
       "    run_inline_js();\n",
       "  } else {\n",
       "    load_libs(js_urls, function() {\n",
       "      console.log(\"Bokeh: BokehJS plotting callback run at\", now());\n",
       "      run_inline_js();\n",
       "    });\n",
       "  }\n",
       "}(window));"
      ],
      "application/vnd.bokehjs_load.v0+json": "\n(function(root) {\n  function now() {\n    return new Date();\n  }\n\n  var force = true;\n\n  if (typeof (root._bokeh_onload_callbacks) === \"undefined\" || force === true) {\n    root._bokeh_onload_callbacks = [];\n    root._bokeh_is_loading = undefined;\n  }\n\n  \n\n  \n  if (typeof (root._bokeh_timeout) === \"undefined\" || force === true) {\n    root._bokeh_timeout = Date.now() + 5000;\n    root._bokeh_failed_load = false;\n  }\n\n  var NB_LOAD_WARNING = {'data': {'text/html':\n     \"<div style='background-color: #fdd'>\\n\"+\n     \"<p>\\n\"+\n     \"BokehJS does not appear to have successfully loaded. If loading BokehJS from CDN, this \\n\"+\n     \"may be due to a slow or bad network connection. Possible fixes:\\n\"+\n     \"</p>\\n\"+\n     \"<ul>\\n\"+\n     \"<li>re-rerun `output_notebook()` to attempt to load from CDN again, or</li>\\n\"+\n     \"<li>use INLINE resources instead, as so:</li>\\n\"+\n     \"</ul>\\n\"+\n     \"<code>\\n\"+\n     \"from bokeh.resources import INLINE\\n\"+\n     \"output_notebook(resources=INLINE)\\n\"+\n     \"</code>\\n\"+\n     \"</div>\"}};\n\n  function display_loaded() {\n    var el = document.getElementById(\"5a137a93-6768-46b4-abd2-77f9f743c8d8\");\n    if (el != null) {\n      el.textContent = \"BokehJS is loading...\";\n    }\n    if (root.Bokeh !== undefined) {\n      if (el != null) {\n        el.textContent = \"BokehJS \" + root.Bokeh.version + \" successfully loaded.\";\n      }\n    } else if (Date.now() < root._bokeh_timeout) {\n      setTimeout(display_loaded, 100)\n    }\n  }\n\n\n  function run_callbacks() {\n    try {\n      root._bokeh_onload_callbacks.forEach(function(callback) { callback() });\n    }\n    finally {\n      delete root._bokeh_onload_callbacks\n    }\n    console.info(\"Bokeh: all callbacks have finished\");\n  }\n\n  function load_libs(js_urls, callback) {\n    root._bokeh_onload_callbacks.push(callback);\n    if (root._bokeh_is_loading > 0) {\n      console.log(\"Bokeh: BokehJS is being loaded, scheduling callback at\", now());\n      return null;\n    }\n    if (js_urls == null || js_urls.length === 0) {\n      run_callbacks();\n      return null;\n    }\n    console.log(\"Bokeh: BokehJS not loaded, scheduling load and callback at\", now());\n    root._bokeh_is_loading = js_urls.length;\n    for (var i = 0; i < js_urls.length; i++) {\n      var url = js_urls[i];\n      var s = document.createElement('script');\n      s.src = url;\n      s.async = false;\n      s.onreadystatechange = s.onload = function() {\n        root._bokeh_is_loading--;\n        if (root._bokeh_is_loading === 0) {\n          console.log(\"Bokeh: all BokehJS libraries loaded\");\n          run_callbacks()\n        }\n      };\n      s.onerror = function() {\n        console.warn(\"failed to load library \" + url);\n      };\n      console.log(\"Bokeh: injecting script tag for BokehJS library: \", url);\n      document.getElementsByTagName(\"head\")[0].appendChild(s);\n    }\n  };var element = document.getElementById(\"5a137a93-6768-46b4-abd2-77f9f743c8d8\");\n  if (element == null) {\n    console.log(\"Bokeh: ERROR: autoload.js configured with elementid '5a137a93-6768-46b4-abd2-77f9f743c8d8' but no matching script tag was found. \")\n    return false;\n  }\n\n  var js_urls = [\"https://cdn.pydata.org/bokeh/release/bokeh-0.13.0.min.js\", \"https://cdn.pydata.org/bokeh/release/bokeh-widgets-0.13.0.min.js\", \"https://cdn.pydata.org/bokeh/release/bokeh-tables-0.13.0.min.js\", \"https://cdn.pydata.org/bokeh/release/bokeh-gl-0.13.0.min.js\"];\n\n  var inline_js = [\n    function(Bokeh) {\n      Bokeh.set_log_level(\"info\");\n    },\n    \n    function(Bokeh) {\n      \n    },\n    function(Bokeh) {\n      console.log(\"Bokeh: injecting CSS: https://cdn.pydata.org/bokeh/release/bokeh-0.13.0.min.css\");\n      Bokeh.embed.inject_css(\"https://cdn.pydata.org/bokeh/release/bokeh-0.13.0.min.css\");\n      console.log(\"Bokeh: injecting CSS: https://cdn.pydata.org/bokeh/release/bokeh-widgets-0.13.0.min.css\");\n      Bokeh.embed.inject_css(\"https://cdn.pydata.org/bokeh/release/bokeh-widgets-0.13.0.min.css\");\n      console.log(\"Bokeh: injecting CSS: https://cdn.pydata.org/bokeh/release/bokeh-tables-0.13.0.min.css\");\n      Bokeh.embed.inject_css(\"https://cdn.pydata.org/bokeh/release/bokeh-tables-0.13.0.min.css\");\n    }\n  ];\n\n  function run_inline_js() {\n    \n    if ((root.Bokeh !== undefined) || (force === true)) {\n      for (var i = 0; i < inline_js.length; i++) {\n        inline_js[i].call(root, root.Bokeh);\n      }if (force === true) {\n        display_loaded();\n      }} else if (Date.now() < root._bokeh_timeout) {\n      setTimeout(run_inline_js, 100);\n    } else if (!root._bokeh_failed_load) {\n      console.log(\"Bokeh: BokehJS failed to load within specified timeout.\");\n      root._bokeh_failed_load = true;\n    } else if (force !== true) {\n      var cell = $(document.getElementById(\"5a137a93-6768-46b4-abd2-77f9f743c8d8\")).parents('.cell').data().cell;\n      cell.output_area.append_execute_result(NB_LOAD_WARNING)\n    }\n\n  }\n\n  if (root._bokeh_is_loading === 0) {\n    console.log(\"Bokeh: BokehJS loaded, going straight to plotting\");\n    run_inline_js();\n  } else {\n    load_libs(js_urls, function() {\n      console.log(\"Bokeh: BokehJS plotting callback run at\", now());\n      run_inline_js();\n    });\n  }\n}(window));"
     },
     "metadata": {},
     "output_type": "display_data"
    }
   ],
   "source": [
    "output_notebook()"
   ]
  },
  {
   "cell_type": "markdown",
   "metadata": {},
   "source": [
    "# Loading the data"
   ]
  },
  {
   "cell_type": "markdown",
   "metadata": {},
   "source": [
    "h0 = pd.read_stata(\"H0_cpy_all.dta\")"
   ]
  },
  {
   "cell_type": "markdown",
   "metadata": {},
   "source": [
    "# comnapes = urlopen(\"http://unstats.un.org/unsd/tradekb/Attachment439.aspx?AttachmentType=1\")\n",
    "\n",
    "comnames = pd.read_excel(\"UN Comtrade Commodity Classifications.xlsx\")"
   ]
  },
  {
   "cell_type": "markdown",
   "metadata": {},
   "source": [
    "## Attributes"
   ]
  },
  {
   "cell_type": "markdown",
   "metadata": {},
   "source": [
    "Selecting columns to explore:"
   ]
  },
  {
   "cell_type": "markdown",
   "metadata": {},
   "source": [
    "h0 = h0.loc[:,['year',\n",
    "               'exporter',\n",
    "               'commoditycode',\n",
    "               'export_value',\n",
    "               'population',\n",
    "               'rca',\n",
    "               'mcp',\n",
    "               'eci',\n",
    "               'pci',\n",
    "               'oppgain',\n",
    "               'distance',\n",
    "               'import_value']]"
   ]
  },
  {
   "cell_type": "markdown",
   "metadata": {},
   "source": [
    "The attributes of the dataset and its data types:"
   ]
  },
  {
   "cell_type": "markdown",
   "metadata": {},
   "source": [
    "h0.info()"
   ]
  },
  {
   "cell_type": "markdown",
   "metadata": {},
   "source": [
    "h0.describe()"
   ]
  },
  {
   "cell_type": "markdown",
   "metadata": {},
   "source": [
    "The data contains more than 6M rows.\n",
    "\n",
    "Explanation for some of the data created by the Atlas researchers:\n",
    "- Distance ('distance'): \"The extent of a location's existing capabilities to make the product\" based on the products distance to current exports as measured by co-export probabilities.\n",
    "- Economic complexity index ('eci'): Country rank base on its export basket's diversification and complexity.\n",
    "- Opportunity gain ('oppgai'): How much a location could benefit by deveoping a particular product.\n",
    "- Product complexity index ('pci'): \"Ranks the diversity and sophistication of production know-how required to produce a product\" based on other number of countries producing that product and their economic complexity.\n",
    "- Revealed comparative advantage ('rca'): Whether a country is an 'effective' exporter of a product (i.e. exports more than its 'fair share'). The bigger the value, the more important exporter the country is.\n",
    "- Country-Product connection ('mcp'): Marks whether the particular country export the specific product with an `rca` greater than 1. This also allows us to measure country diversity and product ubiquity."
   ]
  },
  {
   "cell_type": "markdown",
   "metadata": {},
   "source": [
    "# Example rows"
   ]
  },
  {
   "cell_type": "markdown",
   "metadata": {},
   "source": [
    "A row stands for an exporter country-commodity-year summary data."
   ]
  },
  {
   "cell_type": "markdown",
   "metadata": {
    "scrolled": true
   },
   "source": [
    "h0.sample(10)"
   ]
  },
  {
   "cell_type": "markdown",
   "metadata": {
    "scrolled": true
   },
   "source": [
    "h0[(h0.commoditycode == '0409') & (h0.exporter == 'FIN')] # The annual summary data for Finland and 'natural honey'"
   ]
  },
  {
   "cell_type": "markdown",
   "metadata": {},
   "source": [
    "# Missing values"
   ]
  },
  {
   "cell_type": "markdown",
   "metadata": {},
   "source": [
    "This is a cleaned dataset and, therefore, there are no missing values."
   ]
  },
  {
   "cell_type": "markdown",
   "metadata": {
    "scrolled": false
   },
   "source": [
    "h0.isna().describe()"
   ]
  },
  {
   "cell_type": "markdown",
   "metadata": {},
   "source": [
    "# Attribute distributions"
   ]
  },
  {
   "cell_type": "markdown",
   "metadata": {},
   "source": [
    "Examining the distributions of the variables:"
   ]
  },
  {
   "cell_type": "markdown",
   "metadata": {
    "scrolled": false
   },
   "source": [
    "h0.hist(figsize=(24, 24))"
   ]
  },
  {
   "cell_type": "markdown",
   "metadata": {},
   "source": [
    "Because this is a summary dataset which also tries to be consistent, a number of  attributes contains lots of zero values (e.g. import/export values, rce and mcp). These rows, nevertheless, give information about the country's distance and possible opportunity gain in relation that particular products and therefore we do not drop them."
   ]
  },
  {
   "cell_type": "markdown",
   "metadata": {
    "scrolled": true
   },
   "source": [
    "h0[(h0.export_value == 0) & (h0.import_value == 0)]"
   ]
  },
  {
   "cell_type": "markdown",
   "metadata": {},
   "source": [
    "# First plot"
   ]
  },
  {
   "cell_type": "markdown",
   "metadata": {},
   "source": [
    "## Getting the data"
   ]
  },
  {
   "cell_type": "markdown",
   "metadata": {},
   "source": [
    "comtoexp = h0[(h0.year == 2016)].drop(columns=['year', 'population']).copy()"
   ]
  },
  {
   "cell_type": "markdown",
   "metadata": {
    "scrolled": true
   },
   "source": [
    "query = comtoexp[(comtoexp.exporter == 'IDN') & (comtoexp.mcp == 0)]\n",
    "query.sort_values(by='distance').head()"
   ]
  },
  {
   "cell_type": "markdown",
   "metadata": {},
   "source": [
    "comnames.head()"
   ]
  },
  {
   "cell_type": "markdown",
   "metadata": {},
   "source": [
    "comnames = comnames[(comnames.Classification == 'H5')]"
   ]
  },
  {
   "cell_type": "markdown",
   "metadata": {},
   "source": [
    "query = pd.merge(comnames[comnames.isLeaf ==  0].loc[:,['Code', 'Description']],\n",
    "                query.loc[:,['commoditycode',\n",
    "                             'mcp',\n",
    "                             'distance',\n",
    "                             'pci',\n",
    "                             'oppgain']], \n",
    "                left_on='Code',\n",
    "                right_on='commoditycode').drop(columns=['Code', 'commoditycode'])"
   ]
  },
  {
   "cell_type": "markdown",
   "metadata": {
    "scrolled": true
   },
   "source": [
    "query = query.sort_values(by='distance').head(30)\n",
    "query"
   ]
  },
  {
   "cell_type": "markdown",
   "metadata": {},
   "source": [
    "## Rendering the plot"
   ]
  },
  {
   "cell_type": "code",
   "execution_count": 29,
   "metadata": {},
   "outputs": [],
   "source": [
    "query = pd.read_csv(\"plot1_data.csv\")"
   ]
  },
  {
   "cell_type": "code",
   "execution_count": 30,
   "metadata": {},
   "outputs": [],
   "source": [
    "p = figure(plot_width = 600,\n",
    "           plot_height = 600)\n",
    "           #tools=['pan', 'zoom_out', 'zoom_in', 'reset']) # 'hover', "
   ]
  },
  {
   "cell_type": "code",
   "execution_count": 31,
   "metadata": {},
   "outputs": [],
   "source": [
    "source = ColumnDataSource(data = dict(names = list(query.Description),\n",
    "                                      opg=query.oppgain,                                      \n",
    "                                      pci=query.pci, \n",
    "                                      dist=query.distance))"
   ]
  },
  {
   "cell_type": "raw",
   "metadata": {},
   "source": [
    "hover = HoverTool(\n",
    "    tooltips=[\n",
    "        (\"Desc\", \"@names\"),\n",
    "        (\"PCI\", \"$x\"),\n",
    "        (\"Oppgain\", \"$y\"),\n",
    "        (\"Distance\", \"@dist\")\n",
    "],\n",
    "    formatters={\n",
    "        '@names' : 'printf',\n",
    "    },)"
   ]
  },
  {
   "cell_type": "code",
   "execution_count": 32,
   "metadata": {},
   "outputs": [
    {
     "data": {
      "text/html": [
       "<div style=\"display: table;\"><div style=\"display: table-row;\"><div style=\"display: table-cell;\"><b title=\"bokeh.models.renderers.GlyphRenderer\">GlyphRenderer</b>(</div><div style=\"display: table-cell;\">id&nbsp;=&nbsp;'16ecb27a-cc76-4954-93be-df5a1c6ccdf0', <span id=\"1db81f3a-e5ce-4474-8ff7-0b4e897c1e26\" style=\"cursor: pointer;\">&hellip;)</span></div></div><div class=\"11fa5fba-6b15-4ea8-8206-9053499f58fa\" style=\"display: none;\"><div style=\"display: table-cell;\"></div><div style=\"display: table-cell;\">data_source&nbsp;=&nbsp;ColumnDataSource(id='a91fc877-1c44-47bf-8066-48f20b6c44f1', ...),</div></div><div class=\"11fa5fba-6b15-4ea8-8206-9053499f58fa\" style=\"display: none;\"><div style=\"display: table-cell;\"></div><div style=\"display: table-cell;\">glyph&nbsp;=&nbsp;Circle(id='40d5155f-7307-40b6-a1f7-8eee1c0173fe', ...),</div></div><div class=\"11fa5fba-6b15-4ea8-8206-9053499f58fa\" style=\"display: none;\"><div style=\"display: table-cell;\"></div><div style=\"display: table-cell;\">hover_glyph&nbsp;=&nbsp;None,</div></div><div class=\"11fa5fba-6b15-4ea8-8206-9053499f58fa\" style=\"display: none;\"><div style=\"display: table-cell;\"></div><div style=\"display: table-cell;\">js_event_callbacks&nbsp;=&nbsp;{},</div></div><div class=\"11fa5fba-6b15-4ea8-8206-9053499f58fa\" style=\"display: none;\"><div style=\"display: table-cell;\"></div><div style=\"display: table-cell;\">js_property_callbacks&nbsp;=&nbsp;{},</div></div><div class=\"11fa5fba-6b15-4ea8-8206-9053499f58fa\" style=\"display: none;\"><div style=\"display: table-cell;\"></div><div style=\"display: table-cell;\">level&nbsp;=&nbsp;'glyph',</div></div><div class=\"11fa5fba-6b15-4ea8-8206-9053499f58fa\" style=\"display: none;\"><div style=\"display: table-cell;\"></div><div style=\"display: table-cell;\">muted&nbsp;=&nbsp;False,</div></div><div class=\"11fa5fba-6b15-4ea8-8206-9053499f58fa\" style=\"display: none;\"><div style=\"display: table-cell;\"></div><div style=\"display: table-cell;\">muted_glyph&nbsp;=&nbsp;None,</div></div><div class=\"11fa5fba-6b15-4ea8-8206-9053499f58fa\" style=\"display: none;\"><div style=\"display: table-cell;\"></div><div style=\"display: table-cell;\">name&nbsp;=&nbsp;None,</div></div><div class=\"11fa5fba-6b15-4ea8-8206-9053499f58fa\" style=\"display: none;\"><div style=\"display: table-cell;\"></div><div style=\"display: table-cell;\">nonselection_glyph&nbsp;=&nbsp;Circle(id='fd99f022-9330-4098-9b93-18454f20330b', ...),</div></div><div class=\"11fa5fba-6b15-4ea8-8206-9053499f58fa\" style=\"display: none;\"><div style=\"display: table-cell;\"></div><div style=\"display: table-cell;\">selection_glyph&nbsp;=&nbsp;None,</div></div><div class=\"11fa5fba-6b15-4ea8-8206-9053499f58fa\" style=\"display: none;\"><div style=\"display: table-cell;\"></div><div style=\"display: table-cell;\">subscribed_events&nbsp;=&nbsp;[],</div></div><div class=\"11fa5fba-6b15-4ea8-8206-9053499f58fa\" style=\"display: none;\"><div style=\"display: table-cell;\"></div><div style=\"display: table-cell;\">tags&nbsp;=&nbsp;[],</div></div><div class=\"11fa5fba-6b15-4ea8-8206-9053499f58fa\" style=\"display: none;\"><div style=\"display: table-cell;\"></div><div style=\"display: table-cell;\">view&nbsp;=&nbsp;CDSView(id='380b8a8b-10bb-4a71-87c4-b32ea84cbd70', ...),</div></div><div class=\"11fa5fba-6b15-4ea8-8206-9053499f58fa\" style=\"display: none;\"><div style=\"display: table-cell;\"></div><div style=\"display: table-cell;\">visible&nbsp;=&nbsp;True,</div></div><div class=\"11fa5fba-6b15-4ea8-8206-9053499f58fa\" style=\"display: none;\"><div style=\"display: table-cell;\"></div><div style=\"display: table-cell;\">x_range_name&nbsp;=&nbsp;'default',</div></div><div class=\"11fa5fba-6b15-4ea8-8206-9053499f58fa\" style=\"display: none;\"><div style=\"display: table-cell;\"></div><div style=\"display: table-cell;\">y_range_name&nbsp;=&nbsp;'default')</div></div></div>\n",
       "<script>\n",
       "(function() {\n",
       "  var expanded = false;\n",
       "  var ellipsis = document.getElementById(\"1db81f3a-e5ce-4474-8ff7-0b4e897c1e26\");\n",
       "  ellipsis.addEventListener(\"click\", function() {\n",
       "    var rows = document.getElementsByClassName(\"11fa5fba-6b15-4ea8-8206-9053499f58fa\");\n",
       "    for (var i = 0; i < rows.length; i++) {\n",
       "      var el = rows[i];\n",
       "      el.style.display = expanded ? \"none\" : \"table-row\";\n",
       "    }\n",
       "    ellipsis.innerHTML = expanded ? \"&hellip;)\" : \"&lsaquo;&lsaquo;&lsaquo;\";\n",
       "    expanded = !expanded;\n",
       "  });\n",
       "})();\n",
       "</script>\n"
      ],
      "text/plain": [
       "bokeh.models.renderers.GlyphRenderer(\n",
       "    id='16ecb27a-cc76-4954-93be-df5a1c6ccdf0',\n",
       "    data_source=bokeh.models.sources.ColumnDataSource(\n",
       "        id='a91fc877-1c44-47bf-8066-48f20b6c44f1',\n",
       "        callback=None,\n",
       "        data={'names': ['Manioc, arrowroot, salep, Jerusalem artichokes, sweet potatoes and similar roots and tubers with high starch or inulin content; fresh, chilled, frozen or dried, whether or not sliced or in the form of pellets; sago pith',\n",
       "          'Jute and other textile bast fibres (not flax, true hemp and ramie), raw or processed but not spun; tow and waste of these fibres, including yarn waste and garnetted stock',\n",
       "          'Woven fabrics of jute, other textile bast fibres of heading no. 5303',\n",
       "          'Bananas, including plantains; fresh or dried',\n",
       "          \"Underpants, briefs, nightshirts, pyjamas, bathrobes, dressing gowns and similar articles; men's or boys', knitted or crocheted\",\n",
       "          'Petroleum oils and oils obtained from bituminous minerals; crude',\n",
       "          'Hats and other headgear; knitted or crocheted, or made up from lace, felt or other textile fabric, in the piece (but not in strips), whether or not lined or trimmed; hair-nets of any material, whether or not lined or trimmed',\n",
       "          'Dates, figs, pineapples, avocados, guavas, mangoes and mangosteens; fresh or dried',\n",
       "          'Ores and concentrates; n.e.c. in heading no. 2601',\n",
       "          'Cane or beet sugar and chemically pure sucrose, in solid form',\n",
       "          'Yarn of jute or of other textile bast fibres of heading no. 5305',\n",
       "          'Cocoa beans; whole or broken, raw or roasted',\n",
       "          'Bed linen, table linen, toilet linen and kitchen linen',\n",
       "          'Gold (including gold plated with platinum) unwrought or in semi-manufactured forms, or in powder form',\n",
       "          'Aluminium ores and concentrates',\n",
       "          'Vegetables, leguminous; shelled, whether or not skinned or split, dried',\n",
       "          'Portland cement, aluminous cement (ciment fondu), slag cement, supersulphate cement and similar hydraulic cements, whether or not coloured or in the form of clinkers',\n",
       "          'Tanned or crust skins of sheep and lambs, without wool on, whether or not split, but not further prepared',\n",
       "          'Chromium ores and concentrates',\n",
       "          'Seeds of anise, badian, fennel, coriander, cumin, caraway or juniper',\n",
       "          'Textiles; made up articles n.e.c. in chapter 63, including dress patterns',\n",
       "          'Wheat or meslin flour',\n",
       "          'Manganese ores and concentrates, including ferruginous manganese ores and concentrates with a manganese content of 20% or more, calculated on the dry weight',\n",
       "          'Rice',\n",
       "          'Raw hides and skins n.e.c in headings no. 4101, 4102; fresh, salted, dried, pickled or otherwise preserved, not further prepared, whether or not dehaired or split',\n",
       "          'Twine, cordage, ropes and cables, whether or not plaited or braided; whether or not impregnated, coated, covered or sheathed with rubber or plastics',\n",
       "          'Vegetables, dried; whole, cut, sliced, broken or in powder, but not further prepared',\n",
       "          'Fruit, fresh; n.e.c. in chapter 08',\n",
       "          'Melons (including watermelons) and papaws (papayas); fresh',\n",
       "          'Antimony; articles thereof, including waste and scrap'],\n",
       "         'opg': {'__ndarray__': '+OHeBPjR0L/oUGWcr6fJv9w79vV0XMe/i/FIWRLixb8wqHGa/h+TvxLdUIQWCsa/J1BcPxFMoz+SWzBEkPvNv7FnlbrgY8u/DlIqwPtTxr9dd4i5g1yWv/CZeEmUpLG/PTdERzhOtL89lboB8mfMv4NjO4SWGre/lF5IRWvezb9lhlMH9QS8v6VRuz73jse/z57s4g2bxL8yEzVmTKC/v5k28xbVQ8E/Z+Rj32QHr79bAvjA8Sm/v53BGdvveZG/PkfS2NjRkr9lUoU3UlPGP2EjQZ9labC/oR1H3v/ou79jZ4ZkM027vy04rD6RBr8/',\n",
       "          'shape': (30,),\n",
       "          'dtype': 'float64'},\n",
       "         'pci': {'__ndarray__': 't6YvOg99DcC+QcWCDP4QwE4d9SG5Zg7AxBodRvcyC8DYjMLk/KP4v6k0vR8S2Q7An6OfugN2BMBibHyBtJoEwPtyCwLQzQjA4Dsgv238AMAXN39dl8sGwBj+wuG70w/ALkvgeyTqAcCD6FrFLCUMwKjVoeQf5wPAZIbXP5kwA8Cp6i8FtSn5v0g3HVyVfwXAfWoGAq71BMADUebV79j2v0oMAiuHlui/aY1BJ4RO8b9ABjx6DUsJwDM1Cd6QJvq/Upyjjo7rBsAp6sw9JDzjv0jvwKUI9fm/w0Xu6equAsCBNb16y8v+v9KcBlYfGfi/',\n",
       "          'shape': (30,),\n",
       "          'dtype': 'float64'},\n",
       "         'dist': {'__ndarray__': 'K5A0E2fg5D+3dHHAU03lP9PsDQBNq+U/+mjMf6P45T/9vn/z4kTmPzX0R/9oS+Y/9TNxgqF05j/9ftahP5nmP39skh/xq+Y/ucSRByLL5j/6Md493czmP8zngTQI2OY/bsDnhxEC5z+ZGrLLAQznP+Gd+EHIH+c/yEUQQps35z/YOsSBiDvnP6NbTL+GWOc/6wpshDRZ5z/AikKBLWXnP1v9x/jmbec/uraevvF35z+ZZZEebXnnP7xmqEAceuc/H8QpzqyA5z+l4EKB64jnPz2elh+4iuc/fiDUoMOX5z/u15V99JnnP5+RCI1go+c/',\n",
       "          'shape': (30,),\n",
       "          'dtype': 'float64'}},\n",
       "        js_event_callbacks={},\n",
       "        js_property_callbacks={},\n",
       "        name=None,\n",
       "        selected=bokeh.models.selections.Selection(\n",
       "            id='b2330221-c142-48b8-8c1d-ce03dd2e7132',\n",
       "            indices=[],\n",
       "            js_event_callbacks={},\n",
       "            js_property_callbacks={},\n",
       "            line_indices=[],\n",
       "            multiline_indices={},\n",
       "            name=None,\n",
       "            subscribed_events=[],\n",
       "            tags=[]),\n",
       "        selection_policy=bokeh.models.selections.UnionRenderers(\n",
       "            id='5c9645f3-2848-4fd6-8961-a41cc6875a39',\n",
       "            js_event_callbacks={},\n",
       "            js_property_callbacks={},\n",
       "            name=None,\n",
       "            subscribed_events=[],\n",
       "            tags=[]),\n",
       "        subscribed_events=[],\n",
       "        tags=[]),\n",
       "    glyph=bokeh.models.markers.Circle(\n",
       "        id='40d5155f-7307-40b6-a1f7-8eee1c0173fe',\n",
       "        angle={'value': 0.0, 'units': 'rad'},\n",
       "        fill_alpha={'value': 0.6},\n",
       "        fill_color={'value': 'indigo'},\n",
       "        js_event_callbacks={},\n",
       "        js_property_callbacks={},\n",
       "        line_alpha={'value': 0.6},\n",
       "        line_cap='butt',\n",
       "        line_color={'value': 'indigo'},\n",
       "        line_dash=[],\n",
       "        line_dash_offset=0,\n",
       "        line_join='bevel',\n",
       "        line_width={'value': 1},\n",
       "        name=None,\n",
       "        radius=None,\n",
       "        radius_dimension='x',\n",
       "        size={'value': 15, 'units': 'screen'},\n",
       "        subscribed_events=[],\n",
       "        tags=[],\n",
       "        x={'field': 'pci'},\n",
       "        y={'field': 'opg'}),\n",
       "    hover_glyph=None,\n",
       "    js_event_callbacks={},\n",
       "    js_property_callbacks={},\n",
       "    level='glyph',\n",
       "    muted=False,\n",
       "    muted_glyph=None,\n",
       "    name=None,\n",
       "    nonselection_glyph=bokeh.models.markers.Circle(\n",
       "        id='fd99f022-9330-4098-9b93-18454f20330b',\n",
       "        angle={'value': 0.0, 'units': 'rad'},\n",
       "        fill_alpha={'value': 0.1},\n",
       "        fill_color={'value': '#1f77b4'},\n",
       "        js_event_callbacks={},\n",
       "        js_property_callbacks={},\n",
       "        line_alpha={'value': 0.1},\n",
       "        line_cap='butt',\n",
       "        line_color={'value': '#1f77b4'},\n",
       "        line_dash=[],\n",
       "        line_dash_offset=0,\n",
       "        line_join='bevel',\n",
       "        line_width={'value': 1},\n",
       "        name=None,\n",
       "        radius=None,\n",
       "        radius_dimension='x',\n",
       "        size={'value': 15, 'units': 'screen'},\n",
       "        subscribed_events=[],\n",
       "        tags=[],\n",
       "        x={'field': 'pci'},\n",
       "        y={'field': 'opg'}),\n",
       "    selection_glyph=None,\n",
       "    subscribed_events=[],\n",
       "    tags=[],\n",
       "    view=bokeh.models.sources.CDSView(\n",
       "        id='380b8a8b-10bb-4a71-87c4-b32ea84cbd70',\n",
       "        filters=[],\n",
       "        js_event_callbacks={},\n",
       "        js_property_callbacks={},\n",
       "        name=None,\n",
       "        source=bokeh.models.sources.ColumnDataSource(\n",
       "            id='a91fc877-1c44-47bf-8066-48f20b6c44f1',\n",
       "            callback=None,\n",
       "            data={'names': ['Manioc, arrowroot, salep, Jerusalem artichokes, sweet potatoes and similar roots and tubers with high starch or inulin content; fresh, chilled, frozen or dried, whether or not sliced or in the form of pellets; sago pith',\n",
       "              'Jute and other textile bast fibres (not flax, true hemp and ramie), raw or processed but not spun; tow and waste of these fibres, including yarn waste and garnetted stock',\n",
       "              'Woven fabrics of jute, other textile bast fibres of heading no. 5303',\n",
       "              'Bananas, including plantains; fresh or dried',\n",
       "              \"Underpants, briefs, nightshirts, pyjamas, bathrobes, dressing gowns and similar articles; men's or boys', knitted or crocheted\",\n",
       "              'Petroleum oils and oils obtained from bituminous minerals; crude',\n",
       "              'Hats and other headgear; knitted or crocheted, or made up from lace, felt or other textile fabric, in the piece (but not in strips), whether or not lined or trimmed; hair-nets of any material, whether or not lined or trimmed',\n",
       "              'Dates, figs, pineapples, avocados, guavas, mangoes and mangosteens; fresh or dried',\n",
       "              'Ores and concentrates; n.e.c. in heading no. 2601',\n",
       "              'Cane or beet sugar and chemically pure sucrose, in solid form',\n",
       "              'Yarn of jute or of other textile bast fibres of heading no. 5305',\n",
       "              'Cocoa beans; whole or broken, raw or roasted',\n",
       "              'Bed linen, table linen, toilet linen and kitchen linen',\n",
       "              'Gold (including gold plated with platinum) unwrought or in semi-manufactured forms, or in powder form',\n",
       "              'Aluminium ores and concentrates',\n",
       "              'Vegetables, leguminous; shelled, whether or not skinned or split, dried',\n",
       "              'Portland cement, aluminous cement (ciment fondu), slag cement, supersulphate cement and similar hydraulic cements, whether or not coloured or in the form of clinkers',\n",
       "              'Tanned or crust skins of sheep and lambs, without wool on, whether or not split, but not further prepared',\n",
       "              'Chromium ores and concentrates',\n",
       "              'Seeds of anise, badian, fennel, coriander, cumin, caraway or juniper',\n",
       "              'Textiles; made up articles n.e.c. in chapter 63, including dress patterns',\n",
       "              'Wheat or meslin flour',\n",
       "              'Manganese ores and concentrates, including ferruginous manganese ores and concentrates with a manganese content of 20% or more, calculated on the dry weight',\n",
       "              'Rice',\n",
       "              'Raw hides and skins n.e.c in headings no. 4101, 4102; fresh, salted, dried, pickled or otherwise preserved, not further prepared, whether or not dehaired or split',\n",
       "              'Twine, cordage, ropes and cables, whether or not plaited or braided; whether or not impregnated, coated, covered or sheathed with rubber or plastics',\n",
       "              'Vegetables, dried; whole, cut, sliced, broken or in powder, but not further prepared',\n",
       "              'Fruit, fresh; n.e.c. in chapter 08',\n",
       "              'Melons (including watermelons) and papaws (papayas); fresh',\n",
       "              'Antimony; articles thereof, including waste and scrap'],\n",
       "             'opg': {'__ndarray__': '+OHeBPjR0L/oUGWcr6fJv9w79vV0XMe/i/FIWRLixb8wqHGa/h+TvxLdUIQWCsa/J1BcPxFMoz+SWzBEkPvNv7FnlbrgY8u/DlIqwPtTxr9dd4i5g1yWv/CZeEmUpLG/PTdERzhOtL89lboB8mfMv4NjO4SWGre/lF5IRWvezb9lhlMH9QS8v6VRuz73jse/z57s4g2bxL8yEzVmTKC/v5k28xbVQ8E/Z+Rj32QHr79bAvjA8Sm/v53BGdvveZG/PkfS2NjRkr9lUoU3UlPGP2EjQZ9labC/oR1H3v/ou79jZ4ZkM027vy04rD6RBr8/',\n",
       "              'shape': (30,),\n",
       "              'dtype': 'float64'},\n",
       "             'pci': {'__ndarray__': 't6YvOg99DcC+QcWCDP4QwE4d9SG5Zg7AxBodRvcyC8DYjMLk/KP4v6k0vR8S2Q7An6OfugN2BMBibHyBtJoEwPtyCwLQzQjA4Dsgv238AMAXN39dl8sGwBj+wuG70w/ALkvgeyTqAcCD6FrFLCUMwKjVoeQf5wPAZIbXP5kwA8Cp6i8FtSn5v0g3HVyVfwXAfWoGAq71BMADUebV79j2v0oMAiuHlui/aY1BJ4RO8b9ABjx6DUsJwDM1Cd6QJvq/Upyjjo7rBsAp6sw9JDzjv0jvwKUI9fm/w0Xu6equAsCBNb16y8v+v9KcBlYfGfi/',\n",
       "              'shape': (30,),\n",
       "              'dtype': 'float64'},\n",
       "             'dist': {'__ndarray__': 'K5A0E2fg5D+3dHHAU03lP9PsDQBNq+U/+mjMf6P45T/9vn/z4kTmPzX0R/9oS+Y/9TNxgqF05j/9ftahP5nmP39skh/xq+Y/ucSRByLL5j/6Md493czmP8zngTQI2OY/bsDnhxEC5z+ZGrLLAQznP+Gd+EHIH+c/yEUQQps35z/YOsSBiDvnP6NbTL+GWOc/6wpshDRZ5z/AikKBLWXnP1v9x/jmbec/uraevvF35z+ZZZEebXnnP7xmqEAceuc/H8QpzqyA5z+l4EKB64jnPz2elh+4iuc/fiDUoMOX5z/u15V99JnnP5+RCI1go+c/',\n",
       "              'shape': (30,),\n",
       "              'dtype': 'float64'}},\n",
       "            js_event_callbacks={},\n",
       "            js_property_callbacks={},\n",
       "            name=None,\n",
       "            selected=bokeh.models.selections.Selection(\n",
       "                id='b2330221-c142-48b8-8c1d-ce03dd2e7132',\n",
       "                indices=[],\n",
       "                js_event_callbacks={},\n",
       "                js_property_callbacks={},\n",
       "                line_indices=[],\n",
       "                multiline_indices={},\n",
       "                name=None,\n",
       "                subscribed_events=[],\n",
       "                tags=[]),\n",
       "            selection_policy=bokeh.models.selections.UnionRenderers(\n",
       "                id='5c9645f3-2848-4fd6-8961-a41cc6875a39',\n",
       "                js_event_callbacks={},\n",
       "                js_property_callbacks={},\n",
       "                name=None,\n",
       "                subscribed_events=[],\n",
       "                tags=[]),\n",
       "            subscribed_events=[],\n",
       "            tags=[]),\n",
       "        subscribed_events=[],\n",
       "        tags=[]),\n",
       "    visible=True,\n",
       "    x_range_name='default',\n",
       "    y_range_name='default')"
      ]
     },
     "execution_count": 32,
     "metadata": {},
     "output_type": "execute_result"
    }
   ],
   "source": [
    "p.scatter(x = 'pci',\n",
    "          y = 'opg',\n",
    "          size = 15,\n",
    "          color = 'indigo',\n",
    "          alpha = 0.6,\n",
    "          source = source)"
   ]
  },
  {
   "cell_type": "raw",
   "metadata": {},
   "source": [
    "p.xaxis.axis_label = 'Product Complexity Index'\n",
    "p.yaxis.axis_label = 'Opportunity Gain'"
   ]
  },
  {
   "cell_type": "markdown",
   "metadata": {},
   "source": [
    "## Plot 1\n",
    "The graph can help users to identify opportunities for production within a country.\n",
    "\n",
    "It shows the least 30 least 'distant' but yet not produced prodcuts in a country (in this case, Indonesia). That is, starting to produce them would be relatively easy (in relation to the whole product universe), but nonetheless the country is not an 'effective' exporter of them.\n",
    "\n",
    "Axes:\n",
    "* X: 'Product complexity index': An index showing the relative complexity of that particular product as based on the diversity of countries producing it and the ubiquity of countries these countries make. That is, products with high PCI are typically produced by only a few countries with a wide procuction line.\n",
    "* Y: 'Opportunity gain': The degree with which new opporunities emerge to more complex countries when producing that particular product.\n",
    "\n",
    "Accordingly, the graph can help users to see those product types which are easy to produce, not produced within the country but can lead to novel valuable skills and know-how."
   ]
  },
  {
   "cell_type": "code",
   "execution_count": 33,
   "metadata": {
    "scrolled": false
   },
   "outputs": [
    {
     "data": {
      "text/html": [
       "\n",
       "\n",
       "\n",
       "\n",
       "\n",
       "\n",
       "  <div class=\"bk-root\" id=\"d986415d-7c35-4278-b7da-12486a89a717\"></div>\n"
      ]
     },
     "metadata": {},
     "output_type": "display_data"
    },
    {
     "data": {
      "application/javascript": [
       "(function(root) {\n",
       "  function embed_document(root) {\n",
       "    \n",
       "  var docs_json = {\"1f506786-0dd7-41f3-8822-594ca2870bc3\":{\"roots\":{\"references\":[{\"attributes\":{},\"id\":\"004164f4-00a8-4090-bac9-ff3ff1efc3c9\",\"type\":\"BasicTickFormatter\"},{\"attributes\":{\"dimension\":1,\"plot\":{\"id\":\"372c61ff-612a-49a8-87c6-ef7703baed1e\",\"subtype\":\"Figure\",\"type\":\"Plot\"},\"ticker\":{\"id\":\"7d69a9ea-f18c-4455-b2a3-893db7603f98\",\"type\":\"BasicTicker\"}},\"id\":\"f020837e-5e8a-4771-b908-0ac4c0ef1fa9\",\"type\":\"Grid\"},{\"attributes\":{\"data_source\":{\"id\":\"a91fc877-1c44-47bf-8066-48f20b6c44f1\",\"type\":\"ColumnDataSource\"},\"glyph\":{\"id\":\"40d5155f-7307-40b6-a1f7-8eee1c0173fe\",\"type\":\"Circle\"},\"hover_glyph\":null,\"muted_glyph\":null,\"nonselection_glyph\":{\"id\":\"fd99f022-9330-4098-9b93-18454f20330b\",\"type\":\"Circle\"},\"selection_glyph\":null,\"view\":{\"id\":\"380b8a8b-10bb-4a71-87c4-b32ea84cbd70\",\"type\":\"CDSView\"}},\"id\":\"16ecb27a-cc76-4954-93be-df5a1c6ccdf0\",\"type\":\"GlyphRenderer\"},{\"attributes\":{\"plot\":{\"id\":\"372c61ff-612a-49a8-87c6-ef7703baed1e\",\"subtype\":\"Figure\",\"type\":\"Plot\"},\"ticker\":{\"id\":\"3ad9f5cf-339f-48b5-9bfb-5a28090d049c\",\"type\":\"BasicTicker\"}},\"id\":\"349bdb30-6b83-4dba-b91e-c67d1dc2f00e\",\"type\":\"Grid\"},{\"attributes\":{\"callback\":null},\"id\":\"a3fd26b5-e094-4dd9-b4b6-9e70490dd8a0\",\"type\":\"DataRange1d\"},{\"attributes\":{\"fill_alpha\":{\"value\":0.6},\"fill_color\":{\"value\":\"indigo\"},\"line_alpha\":{\"value\":0.6},\"line_color\":{\"value\":\"indigo\"},\"size\":{\"units\":\"screen\",\"value\":15},\"x\":{\"field\":\"pci\"},\"y\":{\"field\":\"opg\"}},\"id\":\"40d5155f-7307-40b6-a1f7-8eee1c0173fe\",\"type\":\"Circle\"},{\"attributes\":{\"fill_alpha\":{\"value\":0.1},\"fill_color\":{\"value\":\"#1f77b4\"},\"line_alpha\":{\"value\":0.1},\"line_color\":{\"value\":\"#1f77b4\"},\"size\":{\"units\":\"screen\",\"value\":15},\"x\":{\"field\":\"pci\"},\"y\":{\"field\":\"opg\"}},\"id\":\"fd99f022-9330-4098-9b93-18454f20330b\",\"type\":\"Circle\"},{\"attributes\":{\"formatter\":{\"id\":\"004164f4-00a8-4090-bac9-ff3ff1efc3c9\",\"type\":\"BasicTickFormatter\"},\"plot\":{\"id\":\"372c61ff-612a-49a8-87c6-ef7703baed1e\",\"subtype\":\"Figure\",\"type\":\"Plot\"},\"ticker\":{\"id\":\"7d69a9ea-f18c-4455-b2a3-893db7603f98\",\"type\":\"BasicTicker\"}},\"id\":\"71247125-2fb8-49ba-ac47-3f05f937b04d\",\"type\":\"LinearAxis\"},{\"attributes\":{},\"id\":\"3ad9f5cf-339f-48b5-9bfb-5a28090d049c\",\"type\":\"BasicTicker\"},{\"attributes\":{\"below\":[{\"id\":\"e6fa85bf-9e6f-49d0-8db6-9f7c7bd82b2b\",\"type\":\"LinearAxis\"}],\"left\":[{\"id\":\"71247125-2fb8-49ba-ac47-3f05f937b04d\",\"type\":\"LinearAxis\"}],\"renderers\":[{\"id\":\"e6fa85bf-9e6f-49d0-8db6-9f7c7bd82b2b\",\"type\":\"LinearAxis\"},{\"id\":\"349bdb30-6b83-4dba-b91e-c67d1dc2f00e\",\"type\":\"Grid\"},{\"id\":\"71247125-2fb8-49ba-ac47-3f05f937b04d\",\"type\":\"LinearAxis\"},{\"id\":\"f020837e-5e8a-4771-b908-0ac4c0ef1fa9\",\"type\":\"Grid\"},{\"id\":\"f6cde4c5-2880-46f4-8cf4-f29915859229\",\"type\":\"BoxAnnotation\"},{\"id\":\"16ecb27a-cc76-4954-93be-df5a1c6ccdf0\",\"type\":\"GlyphRenderer\"}],\"title\":{\"id\":\"7991f093-8873-42d0-ab86-36b9104366ac\",\"type\":\"Title\"},\"toolbar\":{\"id\":\"a8b88455-e97a-4204-8f96-b3bbf4fa7308\",\"type\":\"Toolbar\"},\"x_range\":{\"id\":\"6d93e703-8216-462a-ab0a-897618ce6132\",\"type\":\"DataRange1d\"},\"x_scale\":{\"id\":\"e92fb228-ded2-4478-a8db-cae2d2000394\",\"type\":\"LinearScale\"},\"y_range\":{\"id\":\"a3fd26b5-e094-4dd9-b4b6-9e70490dd8a0\",\"type\":\"DataRange1d\"},\"y_scale\":{\"id\":\"dd0e1e2e-2555-41bc-97a8-89ecc6c905a8\",\"type\":\"LinearScale\"}},\"id\":\"372c61ff-612a-49a8-87c6-ef7703baed1e\",\"subtype\":\"Figure\",\"type\":\"Plot\"},{\"attributes\":{},\"id\":\"8ce6c2e0-e71e-443c-a853-276335d88478\",\"type\":\"WheelZoomTool\"},{\"attributes\":{},\"id\":\"424b6c28-b871-4b3d-89e3-ef486d006542\",\"type\":\"BasicTickFormatter\"},{\"attributes\":{\"bottom_units\":\"screen\",\"fill_alpha\":{\"value\":0.5},\"fill_color\":{\"value\":\"lightgrey\"},\"left_units\":\"screen\",\"level\":\"overlay\",\"line_alpha\":{\"value\":1.0},\"line_color\":{\"value\":\"black\"},\"line_dash\":[4,4],\"line_width\":{\"value\":2},\"plot\":null,\"render_mode\":\"css\",\"right_units\":\"screen\",\"top_units\":\"screen\"},\"id\":\"f6cde4c5-2880-46f4-8cf4-f29915859229\",\"type\":\"BoxAnnotation\"},{\"attributes\":{\"callback\":null,\"data\":{\"dist\":{\"__ndarray__\":\"K5A0E2fg5D+3dHHAU03lP9PsDQBNq+U/+mjMf6P45T/9vn/z4kTmPzX0R/9oS+Y/9TNxgqF05j/9ftahP5nmP39skh/xq+Y/ucSRByLL5j/6Md493czmP8zngTQI2OY/bsDnhxEC5z+ZGrLLAQznP+Gd+EHIH+c/yEUQQps35z/YOsSBiDvnP6NbTL+GWOc/6wpshDRZ5z/AikKBLWXnP1v9x/jmbec/uraevvF35z+ZZZEebXnnP7xmqEAceuc/H8QpzqyA5z+l4EKB64jnPz2elh+4iuc/fiDUoMOX5z/u15V99JnnP5+RCI1go+c/\",\"dtype\":\"float64\",\"shape\":[30]},\"names\":[\"Manioc, arrowroot, salep, Jerusalem artichokes, sweet potatoes and similar roots and tubers with high starch or inulin content; fresh, chilled, frozen or dried, whether or not sliced or in the form of pellets; sago pith\",\"Jute and other textile bast fibres (not flax, true hemp and ramie), raw or processed but not spun; tow and waste of these fibres, including yarn waste and garnetted stock\",\"Woven fabrics of jute, other textile bast fibres of heading no. 5303\",\"Bananas, including plantains; fresh or dried\",\"Underpants, briefs, nightshirts, pyjamas, bathrobes, dressing gowns and similar articles; men's or boys', knitted or crocheted\",\"Petroleum oils and oils obtained from bituminous minerals; crude\",\"Hats and other headgear; knitted or crocheted, or made up from lace, felt or other textile fabric, in the piece (but not in strips), whether or not lined or trimmed; hair-nets of any material, whether or not lined or trimmed\",\"Dates, figs, pineapples, avocados, guavas, mangoes and mangosteens; fresh or dried\",\"Ores and concentrates; n.e.c. in heading no. 2601\",\"Cane or beet sugar and chemically pure sucrose, in solid form\",\"Yarn of jute or of other textile bast fibres of heading no. 5305\",\"Cocoa beans; whole or broken, raw or roasted\",\"Bed linen, table linen, toilet linen and kitchen linen\",\"Gold (including gold plated with platinum) unwrought or in semi-manufactured forms, or in powder form\",\"Aluminium ores and concentrates\",\"Vegetables, leguminous; shelled, whether or not skinned or split, dried\",\"Portland cement, aluminous cement (ciment fondu), slag cement, supersulphate cement and similar hydraulic cements, whether or not coloured or in the form of clinkers\",\"Tanned or crust skins of sheep and lambs, without wool on, whether or not split, but not further prepared\",\"Chromium ores and concentrates\",\"Seeds of anise, badian, fennel, coriander, cumin, caraway or juniper\",\"Textiles; made up articles n.e.c. in chapter 63, including dress patterns\",\"Wheat or meslin flour\",\"Manganese ores and concentrates, including ferruginous manganese ores and concentrates with a manganese content of 20% or more, calculated on the dry weight\",\"Rice\",\"Raw hides and skins n.e.c in headings no. 4101, 4102; fresh, salted, dried, pickled or otherwise preserved, not further prepared, whether or not dehaired or split\",\"Twine, cordage, ropes and cables, whether or not plaited or braided; whether or not impregnated, coated, covered or sheathed with rubber or plastics\",\"Vegetables, dried; whole, cut, sliced, broken or in powder, but not further prepared\",\"Fruit, fresh; n.e.c. in chapter 08\",\"Melons (including watermelons) and papaws (papayas); fresh\",\"Antimony; articles thereof, including waste and scrap\"],\"opg\":{\"__ndarray__\":\"+OHeBPjR0L/oUGWcr6fJv9w79vV0XMe/i/FIWRLixb8wqHGa/h+TvxLdUIQWCsa/J1BcPxFMoz+SWzBEkPvNv7FnlbrgY8u/DlIqwPtTxr9dd4i5g1yWv/CZeEmUpLG/PTdERzhOtL89lboB8mfMv4NjO4SWGre/lF5IRWvezb9lhlMH9QS8v6VRuz73jse/z57s4g2bxL8yEzVmTKC/v5k28xbVQ8E/Z+Rj32QHr79bAvjA8Sm/v53BGdvveZG/PkfS2NjRkr9lUoU3UlPGP2EjQZ9labC/oR1H3v/ou79jZ4ZkM027vy04rD6RBr8/\",\"dtype\":\"float64\",\"shape\":[30]},\"pci\":{\"__ndarray__\":\"t6YvOg99DcC+QcWCDP4QwE4d9SG5Zg7AxBodRvcyC8DYjMLk/KP4v6k0vR8S2Q7An6OfugN2BMBibHyBtJoEwPtyCwLQzQjA4Dsgv238AMAXN39dl8sGwBj+wuG70w/ALkvgeyTqAcCD6FrFLCUMwKjVoeQf5wPAZIbXP5kwA8Cp6i8FtSn5v0g3HVyVfwXAfWoGAq71BMADUebV79j2v0oMAiuHlui/aY1BJ4RO8b9ABjx6DUsJwDM1Cd6QJvq/Upyjjo7rBsAp6sw9JDzjv0jvwKUI9fm/w0Xu6equAsCBNb16y8v+v9KcBlYfGfi/\",\"dtype\":\"float64\",\"shape\":[30]}},\"selected\":{\"id\":\"b2330221-c142-48b8-8c1d-ce03dd2e7132\",\"type\":\"Selection\"},\"selection_policy\":{\"id\":\"5c9645f3-2848-4fd6-8961-a41cc6875a39\",\"type\":\"UnionRenderers\"}},\"id\":\"a91fc877-1c44-47bf-8066-48f20b6c44f1\",\"type\":\"ColumnDataSource\"},{\"attributes\":{\"indices\":[],\"line_indices\":[]},\"id\":\"b2330221-c142-48b8-8c1d-ce03dd2e7132\",\"type\":\"Selection\"},{\"attributes\":{},\"id\":\"dd0e1e2e-2555-41bc-97a8-89ecc6c905a8\",\"type\":\"LinearScale\"},{\"attributes\":{},\"id\":\"6e5c034c-75b9-4ca8-a3fa-d69b94f77082\",\"type\":\"ResetTool\"},{\"attributes\":{\"source\":{\"id\":\"a91fc877-1c44-47bf-8066-48f20b6c44f1\",\"type\":\"ColumnDataSource\"}},\"id\":\"380b8a8b-10bb-4a71-87c4-b32ea84cbd70\",\"type\":\"CDSView\"},{\"attributes\":{\"plot\":null,\"text\":\"\"},\"id\":\"7991f093-8873-42d0-ab86-36b9104366ac\",\"type\":\"Title\"},{\"attributes\":{\"callback\":null},\"id\":\"6d93e703-8216-462a-ab0a-897618ce6132\",\"type\":\"DataRange1d\"},{\"attributes\":{\"active_drag\":\"auto\",\"active_inspect\":\"auto\",\"active_multi\":null,\"active_scroll\":\"auto\",\"active_tap\":\"auto\",\"tools\":[{\"id\":\"a8444c1e-6eee-4cbe-ad11-2cb56b9f04ea\",\"type\":\"PanTool\"},{\"id\":\"8ce6c2e0-e71e-443c-a853-276335d88478\",\"type\":\"WheelZoomTool\"},{\"id\":\"ce4847dc-04fc-465a-80ae-5cd7d8a9720a\",\"type\":\"BoxZoomTool\"},{\"id\":\"9dd02ed5-6175-4a41-add0-ed206b39c789\",\"type\":\"SaveTool\"},{\"id\":\"6e5c034c-75b9-4ca8-a3fa-d69b94f77082\",\"type\":\"ResetTool\"},{\"id\":\"8956a718-2bf2-438c-b21a-141c85cb6ab1\",\"type\":\"HelpTool\"}]},\"id\":\"a8b88455-e97a-4204-8f96-b3bbf4fa7308\",\"type\":\"Toolbar\"},{\"attributes\":{},\"id\":\"a8444c1e-6eee-4cbe-ad11-2cb56b9f04ea\",\"type\":\"PanTool\"},{\"attributes\":{\"overlay\":{\"id\":\"f6cde4c5-2880-46f4-8cf4-f29915859229\",\"type\":\"BoxAnnotation\"}},\"id\":\"ce4847dc-04fc-465a-80ae-5cd7d8a9720a\",\"type\":\"BoxZoomTool\"},{\"attributes\":{},\"id\":\"8956a718-2bf2-438c-b21a-141c85cb6ab1\",\"type\":\"HelpTool\"},{\"attributes\":{},\"id\":\"7d69a9ea-f18c-4455-b2a3-893db7603f98\",\"type\":\"BasicTicker\"},{\"attributes\":{},\"id\":\"5c9645f3-2848-4fd6-8961-a41cc6875a39\",\"type\":\"UnionRenderers\"},{\"attributes\":{},\"id\":\"9dd02ed5-6175-4a41-add0-ed206b39c789\",\"type\":\"SaveTool\"},{\"attributes\":{},\"id\":\"e92fb228-ded2-4478-a8db-cae2d2000394\",\"type\":\"LinearScale\"},{\"attributes\":{\"formatter\":{\"id\":\"424b6c28-b871-4b3d-89e3-ef486d006542\",\"type\":\"BasicTickFormatter\"},\"plot\":{\"id\":\"372c61ff-612a-49a8-87c6-ef7703baed1e\",\"subtype\":\"Figure\",\"type\":\"Plot\"},\"ticker\":{\"id\":\"3ad9f5cf-339f-48b5-9bfb-5a28090d049c\",\"type\":\"BasicTicker\"}},\"id\":\"e6fa85bf-9e6f-49d0-8db6-9f7c7bd82b2b\",\"type\":\"LinearAxis\"}],\"root_ids\":[\"372c61ff-612a-49a8-87c6-ef7703baed1e\"]},\"title\":\"Bokeh Application\",\"version\":\"0.13.0\"}};\n",
       "  var render_items = [{\"docid\":\"1f506786-0dd7-41f3-8822-594ca2870bc3\",\"roots\":{\"372c61ff-612a-49a8-87c6-ef7703baed1e\":\"d986415d-7c35-4278-b7da-12486a89a717\"}}];\n",
       "  root.Bokeh.embed.embed_items_notebook(docs_json, render_items);\n",
       "\n",
       "  }\n",
       "  if (root.Bokeh !== undefined) {\n",
       "    embed_document(root);\n",
       "  } else {\n",
       "    var attempts = 0;\n",
       "    var timer = setInterval(function(root) {\n",
       "      if (root.Bokeh !== undefined) {\n",
       "        embed_document(root);\n",
       "        clearInterval(timer);\n",
       "      }\n",
       "      attempts++;\n",
       "      if (attempts > 100) {\n",
       "        console.log(\"Bokeh: ERROR: Unable to run BokehJS code because BokehJS library is missing\")\n",
       "        clearInterval(timer);\n",
       "      }\n",
       "    }, 10, root)\n",
       "  }\n",
       "})(window);"
      ],
      "application/vnd.bokehjs_exec.v0+json": ""
     },
     "metadata": {
      "application/vnd.bokehjs_exec.v0+json": {
       "id": "372c61ff-612a-49a8-87c6-ef7703baed1e"
      }
     },
     "output_type": "display_data"
    }
   ],
   "source": [
    "show(p)"
   ]
  },
  {
   "cell_type": "code",
   "execution_count": null,
   "metadata": {},
   "outputs": [],
   "source": []
  }
 ],
 "metadata": {
  "kernelspec": {
   "display_name": "Python 3",
   "language": "python",
   "name": "python3"
  },
  "language_info": {
   "codemirror_mode": {
    "name": "ipython",
    "version": 3
   },
   "file_extension": ".py",
   "mimetype": "text/x-python",
   "name": "python",
   "nbconvert_exporter": "python",
   "pygments_lexer": "ipython3",
   "version": "3.6.4"
  }
 },
 "nbformat": 4,
 "nbformat_minor": 2
}
