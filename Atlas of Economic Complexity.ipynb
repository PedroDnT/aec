{
 "cells": [
  {
   "cell_type": "code",
   "execution_count": 2,
   "metadata": {},
   "outputs": [],
   "source": [
    "import pandas as pd"
   ]
  },
  {
   "cell_type": "code",
   "execution_count": 3,
   "metadata": {},
   "outputs": [],
   "source": [
    "h0 = pd.read_stata(\"H0_cpy_all.dta\")"
   ]
  },
  {
   "cell_type": "markdown",
   "metadata": {},
   "source": [
    "Selecting columns to explore:"
   ]
  },
  {
   "cell_type": "code",
   "execution_count": 4,
   "metadata": {},
   "outputs": [],
   "source": [
    "h0 = h0.loc[:,['year',\n",
    "               'exporter',\n",
    "               'commoditycode',\n",
    "               'export_value',\n",
    "               'population',\n",
    "               'rca',\n",
    "               'mcp',\n",
    "               'eci',\n",
    "               'pci',\n",
    "               'oppgain',\n",
    "               'distance',\n",
    "               'import_value']]"
   ]
  },
  {
   "cell_type": "code",
   "execution_count": 5,
   "metadata": {},
   "outputs": [
    {
     "name": "stdout",
     "output_type": "stream",
     "text": [
      "<class 'pandas.core.frame.DataFrame'>\n",
      "Int64Index: 6181542 entries, 0 to 6181541\n",
      "Data columns (total 12 columns):\n",
      "year             int16\n",
      "exporter         object\n",
      "commoditycode    object\n",
      "export_value     float32\n",
      "population       float32\n",
      "rca              float32\n",
      "mcp              int8\n",
      "eci              float32\n",
      "pci              float32\n",
      "oppgain          float32\n",
      "distance         float32\n",
      "import_value     float64\n",
      "dtypes: float32(7), float64(1), int16(1), int8(1), object(2)\n",
      "memory usage: 371.4+ MB\n"
     ]
    }
   ],
   "source": [
    "h0.info()"
   ]
  },
  {
   "cell_type": "code",
   "execution_count": 6,
   "metadata": {},
   "outputs": [
    {
     "data": {
      "text/html": [
       "<div>\n",
       "<style scoped>\n",
       "    .dataframe tbody tr th:only-of-type {\n",
       "        vertical-align: middle;\n",
       "    }\n",
       "\n",
       "    .dataframe tbody tr th {\n",
       "        vertical-align: top;\n",
       "    }\n",
       "\n",
       "    .dataframe thead th {\n",
       "        text-align: right;\n",
       "    }\n",
       "</style>\n",
       "<table border=\"1\" class=\"dataframe\">\n",
       "  <thead>\n",
       "    <tr style=\"text-align: right;\">\n",
       "      <th></th>\n",
       "      <th>year</th>\n",
       "      <th>export_value</th>\n",
       "      <th>population</th>\n",
       "      <th>rca</th>\n",
       "      <th>mcp</th>\n",
       "      <th>eci</th>\n",
       "      <th>pci</th>\n",
       "      <th>oppgain</th>\n",
       "      <th>distance</th>\n",
       "      <th>import_value</th>\n",
       "    </tr>\n",
       "  </thead>\n",
       "  <tbody>\n",
       "    <tr>\n",
       "      <th>count</th>\n",
       "      <td>6.181542e+06</td>\n",
       "      <td>6.181542e+06</td>\n",
       "      <td>6.181542e+06</td>\n",
       "      <td>6.181542e+06</td>\n",
       "      <td>6.181542e+06</td>\n",
       "      <td>6.181542e+06</td>\n",
       "      <td>6.181542e+06</td>\n",
       "      <td>6.181542e+06</td>\n",
       "      <td>6.181542e+06</td>\n",
       "      <td>6.181542e+06</td>\n",
       "    </tr>\n",
       "    <tr>\n",
       "      <th>mean</th>\n",
       "      <td>2.005684e+03</td>\n",
       "      <td>3.868108e+07</td>\n",
       "      <td>2.866923e+07</td>\n",
       "      <td>2.128131e+00</td>\n",
       "      <td>1.070479e-01</td>\n",
       "      <td>-1.888869e-06</td>\n",
       "      <td>9.767827e-01</td>\n",
       "      <td>4.326566e-01</td>\n",
       "      <td>9.107793e-01</td>\n",
       "      <td>3.880376e+07</td>\n",
       "    </tr>\n",
       "    <tr>\n",
       "      <th>std</th>\n",
       "      <td>6.302178e+00</td>\n",
       "      <td>8.094731e+08</td>\n",
       "      <td>1.179689e+08</td>\n",
       "      <td>4.633954e+02</td>\n",
       "      <td>3.091741e-01</td>\n",
       "      <td>9.968324e-01</td>\n",
       "      <td>1.957165e+00</td>\n",
       "      <td>5.355933e-01</td>\n",
       "      <td>1.113930e-01</td>\n",
       "      <td>7.738980e+08</td>\n",
       "    </tr>\n",
       "    <tr>\n",
       "      <th>min</th>\n",
       "      <td>1.995000e+03</td>\n",
       "      <td>0.000000e+00</td>\n",
       "      <td>0.000000e+00</td>\n",
       "      <td>0.000000e+00</td>\n",
       "      <td>0.000000e+00</td>\n",
       "      <td>-3.168124e+00</td>\n",
       "      <td>-5.713369e+00</td>\n",
       "      <td>-1.127975e+00</td>\n",
       "      <td>0.000000e+00</td>\n",
       "      <td>0.000000e+00</td>\n",
       "    </tr>\n",
       "    <tr>\n",
       "      <th>25%</th>\n",
       "      <td>2.000000e+03</td>\n",
       "      <td>0.000000e+00</td>\n",
       "      <td>2.842170e+05</td>\n",
       "      <td>0.000000e+00</td>\n",
       "      <td>0.000000e+00</td>\n",
       "      <td>-7.514231e-01</td>\n",
       "      <td>-4.648689e-01</td>\n",
       "      <td>0.000000e+00</td>\n",
       "      <td>8.404849e-01</td>\n",
       "      <td>1.986000e+03</td>\n",
       "    </tr>\n",
       "    <tr>\n",
       "      <th>50%</th>\n",
       "      <td>2.006000e+03</td>\n",
       "      <td>1.546000e+03</td>\n",
       "      <td>4.628400e+06</td>\n",
       "      <td>2.469272e-03</td>\n",
       "      <td>0.000000e+00</td>\n",
       "      <td>2.020429e-02</td>\n",
       "      <td>1.101224e+00</td>\n",
       "      <td>3.929624e-01</td>\n",
       "      <td>9.314370e-01</td>\n",
       "      <td>1.694730e+05</td>\n",
       "    </tr>\n",
       "    <tr>\n",
       "      <th>75%</th>\n",
       "      <td>2.011000e+03</td>\n",
       "      <td>4.058420e+05</td>\n",
       "      <td>1.727914e+07</td>\n",
       "      <td>1.755035e-01</td>\n",
       "      <td>0.000000e+00</td>\n",
       "      <td>7.239327e-01</td>\n",
       "      <td>2.465013e+00</td>\n",
       "      <td>8.403433e-01</td>\n",
       "      <td>9.688715e-01</td>\n",
       "      <td>3.171623e+06</td>\n",
       "    </tr>\n",
       "    <tr>\n",
       "      <th>max</th>\n",
       "      <td>2.016000e+03</td>\n",
       "      <td>3.496526e+11</td>\n",
       "      <td>1.371220e+09</td>\n",
       "      <td>7.623724e+05</td>\n",
       "      <td>1.000000e+00</td>\n",
       "      <td>2.935766e+00</td>\n",
       "      <td>7.687447e+00</td>\n",
       "      <td>2.116711e+00</td>\n",
       "      <td>1.000000e+00</td>\n",
       "      <td>3.513117e+11</td>\n",
       "    </tr>\n",
       "  </tbody>\n",
       "</table>\n",
       "</div>"
      ],
      "text/plain": [
       "               year  export_value    population           rca           mcp  \\\n",
       "count  6.181542e+06  6.181542e+06  6.181542e+06  6.181542e+06  6.181542e+06   \n",
       "mean   2.005684e+03  3.868108e+07  2.866923e+07  2.128131e+00  1.070479e-01   \n",
       "std    6.302178e+00  8.094731e+08  1.179689e+08  4.633954e+02  3.091741e-01   \n",
       "min    1.995000e+03  0.000000e+00  0.000000e+00  0.000000e+00  0.000000e+00   \n",
       "25%    2.000000e+03  0.000000e+00  2.842170e+05  0.000000e+00  0.000000e+00   \n",
       "50%    2.006000e+03  1.546000e+03  4.628400e+06  2.469272e-03  0.000000e+00   \n",
       "75%    2.011000e+03  4.058420e+05  1.727914e+07  1.755035e-01  0.000000e+00   \n",
       "max    2.016000e+03  3.496526e+11  1.371220e+09  7.623724e+05  1.000000e+00   \n",
       "\n",
       "                eci           pci       oppgain      distance  import_value  \n",
       "count  6.181542e+06  6.181542e+06  6.181542e+06  6.181542e+06  6.181542e+06  \n",
       "mean  -1.888869e-06  9.767827e-01  4.326566e-01  9.107793e-01  3.880376e+07  \n",
       "std    9.968324e-01  1.957165e+00  5.355933e-01  1.113930e-01  7.738980e+08  \n",
       "min   -3.168124e+00 -5.713369e+00 -1.127975e+00  0.000000e+00  0.000000e+00  \n",
       "25%   -7.514231e-01 -4.648689e-01  0.000000e+00  8.404849e-01  1.986000e+03  \n",
       "50%    2.020429e-02  1.101224e+00  3.929624e-01  9.314370e-01  1.694730e+05  \n",
       "75%    7.239327e-01  2.465013e+00  8.403433e-01  9.688715e-01  3.171623e+06  \n",
       "max    2.935766e+00  7.687447e+00  2.116711e+00  1.000000e+00  3.513117e+11  "
      ]
     },
     "execution_count": 6,
     "metadata": {},
     "output_type": "execute_result"
    }
   ],
   "source": [
    "h0.describe()"
   ]
  },
  {
   "cell_type": "markdown",
   "metadata": {},
   "source": [
    "The data contains more than 6M rows and 12 "
   ]
  }
 ],
 "metadata": {
  "kernelspec": {
   "display_name": "Python 3",
   "language": "python",
   "name": "python3"
  },
  "language_info": {
   "codemirror_mode": {
    "name": "ipython",
    "version": 3
   },
   "file_extension": ".py",
   "mimetype": "text/x-python",
   "name": "python",
   "nbconvert_exporter": "python",
   "pygments_lexer": "ipython3",
   "version": "3.6.4"
  }
 },
 "nbformat": 4,
 "nbformat_minor": 2
}
